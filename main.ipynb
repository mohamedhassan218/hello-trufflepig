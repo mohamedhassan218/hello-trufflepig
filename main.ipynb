{
 "cells": [
  {
   "cell_type": "code",
   "execution_count": 1,
   "metadata": {},
   "outputs": [],
   "source": [
    "from trufflepig import Trufflepig\n",
    "from dotenv import load_dotenv\n",
    "import os"
   ]
  },
  {
   "cell_type": "code",
   "execution_count": 2,
   "metadata": {},
   "outputs": [],
   "source": [
    "# Load our API key from the \".env\" file.\n",
    "load_dotenv()\n",
    "api_key = os.environ[\"TRUFFLE_PIG_API_KEY\"]"
   ]
  },
  {
   "cell_type": "code",
   "execution_count": 3,
   "metadata": {},
   "outputs": [],
   "source": [
    "# Initialize the trufflepig client.\n",
    "client = Trufflepig(api_key)"
   ]
  },
  {
   "cell_type": "code",
   "execution_count": 4,
   "metadata": {},
   "outputs": [],
   "source": [
    "# Create an index to store your data in it.\n",
    "index = client.create_index(\"try-trufflepig\")"
   ]
  },
  {
   "cell_type": "code",
   "execution_count": 5,
   "metadata": {},
   "outputs": [],
   "source": [
    "# Upload our data to the index.\n",
    "document_keys = index.upload(files=[{\"document_path\": \"story.txt\"}])"
   ]
  },
  {
   "cell_type": "code",
   "execution_count": 10,
   "metadata": {},
   "outputs": [],
   "source": [
    "# Trufflepig may take some time to index your data, before working check your index status.\n",
    "index_status = index.get_upload_status(document_keys)"
   ]
  },
  {
   "cell_type": "code",
   "execution_count": 11,
   "metadata": {},
   "outputs": [
    {
     "data": {
      "text/plain": [
       "[UploadTrackingResult(document_key='story.txt', job_status='SUCCESS', start_time=1717431253293, end_time=1717431265471)]"
      ]
     },
     "execution_count": 11,
     "metadata": {},
     "output_type": "execute_result"
    }
   ],
   "source": [
    "index_status\n",
    "\n",
    "# First time:\n",
    "    # [UploadTrackingResult(document_key='story.txt', job_status='IN_PROGRESS', start_time=1717431253293, end_time=None)]\n",
    "    \n",
    "# After a while:\n",
    "    # [UploadTrackingResult(document_key='story.txt', job_status='SUCCESS', start_time=1717431253293, end_time=1717431265471)]"
   ]
  },
  {
   "cell_type": "code",
   "execution_count": 12,
   "metadata": {},
   "outputs": [],
   "source": [
    "# Now, let's use our index to search . . .\n",
    "query = \"Where Luna found the map?\"\n",
    "\n",
    "search_results = index.search(query)"
   ]
  },
  {
   "cell_type": "code",
   "execution_count": 13,
   "metadata": {},
   "outputs": [
    {
     "data": {
      "text/plain": [
       "[SearchResult(content='One sunny morning, Luna found an old, tattered map in the attic of her house. The map depicted a path leading to a hidden treasure buried deep within the Whispering Woods, a forest known for its enchanting beauty and mysterious aura.', document_key='story.txt', score=0.99742913, metadata=None, page=None),\n",
       " SearchResult(content='After hours of trekking, Luna finally reached the ancient oak tree marked on the map. Underneath its roots, she discovered a hidden trapdoor. With a mix of anticipation and determination, Luna opened the trapdoor and climbed down into a dimly lit cavern.', document_key='story.txt', score=0.89478946, metadata=None, page=None),\n",
       " SearchResult(content=\"With a heart full of excitement and a mind set on adventure, Luna decided to follow the map. She packed some food, a flashlight, and her grandfather's compass, and set off towards the Whispering Woods.\", document_key='story.txt', score=0.81077874, metadata=None, page=None),\n",
       " SearchResult(content='Once upon a time in the mystical land of Elaria, there lived a brave young girl named Luna. Luna had always been fascinated by the tales of hidden treasures and ancient legends that her grandfather used to tell her.', document_key='story.txt', score=0.49819946, metadata=None, page=None),\n",
       " SearchResult(content='There, she found an old chest covered in dust and cobwebs. Luna opened the chest to reveal a collection of glittering jewels, gold coins, and an ancient scroll. The scroll contained a message from a long-lost civilization, thanking the finder for their bravery and wisdom.', document_key='story.txt', score=0.4107563, metadata=None, page=None),\n",
       " SearchResult(content='Luna returned home as a hero, her story inspiring the entire village. She became a legend in Elaria, known as the girl who found the hidden treasure of the Whispering Woods.', document_key='story.txt', score=0.2622746, metadata=None, page=None),\n",
       " SearchResult(content=\"Next, she faced the Great Maze of Vines, where the paths seemed to change every few minutes. Luna, remembering her grandfather's advice to always stay calm and look for patterns, carefully observed the shifting vines and found her way through the maze.\", document_key='story.txt', score=0.14390807, metadata=None, page=None),\n",
       " SearchResult(content='As Luna ventured deeper into the forest, she encountered various challenges. First, she had to cross a rickety old bridge over a roaring river. Using her agility and courage, she managed to get across safely.', document_key='story.txt', score=0.0434469, metadata=None, page=None)]"
      ]
     },
     "execution_count": 13,
     "metadata": {},
     "output_type": "execute_result"
    }
   ],
   "source": [
    "search_results"
   ]
  },
  {
   "cell_type": "code",
   "execution_count": 14,
   "metadata": {},
   "outputs": [
    {
     "data": {
      "text/plain": [
       "True"
      ]
     },
     "execution_count": 14,
     "metadata": {},
     "output_type": "execute_result"
    }
   ],
   "source": [
    "# Don't forget to delete your index after finishing your work.\n",
    "client.delete_index(\"try-trufflepig\")"
   ]
  },
  {
   "cell_type": "code",
   "execution_count": 15,
   "metadata": {},
   "outputs": [],
   "source": [
    "# This should return an empty list.\n",
    "search_results = index.search(query)"
   ]
  },
  {
   "cell_type": "code",
   "execution_count": 16,
   "metadata": {},
   "outputs": [
    {
     "data": {
      "text/plain": [
       "[]"
      ]
     },
     "execution_count": 16,
     "metadata": {},
     "output_type": "execute_result"
    }
   ],
   "source": [
    "search_results"
   ]
  }
 ],
 "metadata": {
  "kernelspec": {
   "display_name": ".venv",
   "language": "python",
   "name": "python3"
  },
  "language_info": {
   "codemirror_mode": {
    "name": "ipython",
    "version": 3
   },
   "file_extension": ".py",
   "mimetype": "text/x-python",
   "name": "python",
   "nbconvert_exporter": "python",
   "pygments_lexer": "ipython3",
   "version": "3.12.0"
  }
 },
 "nbformat": 4,
 "nbformat_minor": 2
}
